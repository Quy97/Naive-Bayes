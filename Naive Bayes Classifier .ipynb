{
 "cells": [
  {
   "cell_type": "code",
   "execution_count": 1,
   "metadata": {},
   "outputs": [
    {
     "name": "stdout",
     "output_type": "stream",
     "text": [
      "Predicting class of d5: B\n",
      "Probability of d6 in each class: [[0.29175335 0.70824665]]\n",
      "Probability of d5 in each class: [[0.89548823 0.10451177]]\n"
     ]
    }
   ],
   "source": [
    "from __future__ import print_function\n",
    "from sklearn.naive_bayes import MultinomialNB\n",
    "import numpy as np \n",
    "\n",
    "# train data\n",
    "d1 = [2, 1, 1, 0, 0, 0, 0, 0, 0]\n",
    "d2 = [1, 1, 0, 1, 1, 0, 0, 0, 0]\n",
    "d3 = [0, 1, 0, 0, 1, 1, 0, 0, 0]\n",
    "d4 = [0, 1, 0, 0, 0, 0, 1, 1, 1]\n",
    "\n",
    "train_data = np.array([d1, d2, d3, d4])\n",
    "label = np.array(['B', 'B', 'B', 'N']) \n",
    "\n",
    "# test data\n",
    "d5 = np.array([[2, 0, 0, 1, 0, 0, 0, 1, 0]])\n",
    "d6 = np.array([[0, 1, 0, 0, 0, 0, 0, 1, 1]])\n",
    "\n",
    "## call MultinomialNB\n",
    "clf = MultinomialNB()\n",
    "# training \n",
    "clf.fit(train_data, label)\n",
    "\n",
    "# test\n",
    "print('Predicting class of d5:', str(clf.predict(d5)[0]))\n",
    "print('Probability of d6 in each class:', clf.predict_proba(d6))\n",
    "print('Probability of d5 in each class:', clf.predict_proba(d5))"
   ]
  },
  {
   "cell_type": "code",
   "execution_count": 2,
   "metadata": {},
   "outputs": [
    {
     "name": "stdout",
     "output_type": "stream",
     "text": [
      "Predicting class of d5: B\n",
      "Probability of d6 in each class: [[0.76554295 0.23445705]]\n",
      "Probability of d6 in each class: [[0.16948581 0.83051419]]\n"
     ]
    }
   ],
   "source": [
    "# with BernoulliNB\n",
    "from sklearn.naive_bayes import BernoulliNB\n",
    "\n",
    "# train data\n",
    "d1 = [1, 1, 1, 0, 0, 0, 0, 0, 0]\n",
    "d2 = [1, 1, 0, 1, 1, 0, 0, 0, 0]\n",
    "d3 = [0, 1, 0, 0, 1, 1, 0, 0, 0]\n",
    "d4 = [0, 1, 0, 0, 0, 0, 1, 1, 1]\n",
    "\n",
    "train_data = np.array([d1, d2, d3, d4])\n",
    "label = np.array(['B', 'B', 'B', 'N']) # 0 - B, 1 - N \n",
    "\n",
    "# test data\n",
    "d5 = np.array([[1, 0, 0, 1, 0, 0, 0, 1, 0]])\n",
    "d6 = np.array([[0, 1, 0, 0, 0, 0, 0, 1, 1]])\n",
    "\n",
    "## call MultinomialNB\n",
    "clf = BernoulliNB()\n",
    "# training \n",
    "clf.fit(train_data, label)\n",
    "\n",
    "# test\n",
    "print('Predicting class of d5:', str(clf.predict(d5)[0]))\n",
    "print('Probability of d6 in each class:', clf.predict_proba(d5))\n",
    "print('Probability of d6 in each class:', clf.predict_proba(d6))"
   ]
  },
  {
   "cell_type": "code",
   "execution_count": 3,
   "metadata": {},
   "outputs": [
    {
     "name": "stdout",
     "output_type": "stream",
     "text": [
      "Probability of x_test in each class: [[9.99999846e-01 1.54426632e-07]]\n",
      "Class of x_test: ['F']\n"
     ]
    }
   ],
   "source": [
    "from sklearn.naive_bayes import GaussianNB\n",
    "X = np.array([[6,180,12],[5.92,190,11],[5.58,170,12],[5.92,165,10],[5,100,6],[5.5,150,8],[5.42,130,7],[5.75,150,9]])\n",
    "Y = np.array(['M','M','M','M','F','F','F','F'])\n",
    "clf = GaussianNB()\n",
    "clf.fit(X, Y)\n",
    "x_test = np.array([[6,130,8]])\n",
    "print('Probability of x_test in each class:',clf.predict_proba(x_test))\n",
    "print('Class of x_test:', clf.predict(x_test))"
   ]
  },
  {
   "cell_type": "markdown",
   "metadata": {},
   "source": [
    "# Classifying spam emails"
   ]
  },
  {
   "cell_type": "code",
   "execution_count": 4,
   "metadata": {},
   "outputs": [],
   "source": [
    "from __future__ import print_function\n",
    "import numpy as np\n",
    "from scipy.sparse import coo_matrix # for sparse matrix\n",
    "from sklearn.naive_bayes import MultinomialNB, BernoulliNB\n",
    "from sklearn.metrics import accuracy_score # for evaluating results\n",
    "\n",
    "# data path and file name \n",
    "path = 'ex6DataPrepared/'\n",
    "train_data_fn = 'train-features.txt'\n",
    "test_data_fn = 'test-features.txt'\n",
    "train_label_fn = 'train-labels.txt'\n",
    "test_label_fn = 'test-labels.txt'"
   ]
  },
  {
   "cell_type": "code",
   "execution_count": 5,
   "metadata": {},
   "outputs": [],
   "source": [
    "nwords = 2500 \n",
    "\n",
    "def read_data(data_fn, label_fn):\n",
    "    ## read label_fn\n",
    "    with open(path + label_fn) as f:\n",
    "        content = f.readlines()\n",
    "    label = [int(x.strip()) for x in content]\n",
    "\n",
    "    ## read data_fn\n",
    "    with open(path + data_fn) as f:\n",
    "        content = f.readlines()\n",
    "    # remove '\\n' at the end of each line\n",
    "    content = [x.strip() for x in content] \n",
    "\n",
    "    dat = np.zeros((len(content), 3), dtype = int)\n",
    "    \n",
    "    for i, line in enumerate(content): \n",
    "        a = line.split(' ')\n",
    "        dat[i, :] = np.array([int(a[0]), int(a[1]), int(a[2])])\n",
    "    \n",
    "    # remember to -1 at coordinate since we're in Python\n",
    "    # check this: https://docs.scipy.org/doc/scipy/reference/generated/scipy.sparse.coo_matrix.html\n",
    "    # for more information about coo_matrix function \n",
    "    data = coo_matrix((dat[:, 2], (dat[:, 0] - 1, dat[:, 1] - 1)),\\\n",
    "             shape=(len(label), nwords))\n",
    "    #print(dat)\n",
    "    return (data, label)"
   ]
  },
  {
   "cell_type": "code",
   "execution_count": 6,
   "metadata": {},
   "outputs": [
    {
     "name": "stdout",
     "output_type": "stream",
     "text": [
      "Training size = 700, accuracy = 98.08%\n"
     ]
    }
   ],
   "source": [
    "(train_data, train_label)  = read_data(train_data_fn, train_label_fn)\n",
    "(test_data, test_label)  = read_data(test_data_fn, test_label_fn)\n",
    "\n",
    "clf = MultinomialNB()\n",
    "clf.fit(train_data, train_label)\n",
    "\n",
    "y_pred = clf.predict(test_data)\n",
    "print('Training size = %d, accuracy = %.2f%%' % \\\n",
    "      (train_data.shape[0],accuracy_score(test_label, y_pred)*100))"
   ]
  },
  {
   "cell_type": "code",
   "execution_count": 7,
   "metadata": {},
   "outputs": [
    {
     "name": "stdout",
     "output_type": "stream",
     "text": [
      "Training size = 700, accuracy = 85.38%\n"
     ]
    }
   ],
   "source": [
    "(train_data, train_label)  = read_data(train_data_fn, train_label_fn)\n",
    "(test_data, test_label)  = read_data(test_data_fn, test_label_fn)\n",
    "\n",
    "clf = BernoulliNB()\n",
    "clf.fit(train_data, train_label)\n",
    "\n",
    "y_pred = clf.predict(test_data)\n",
    "print('Training size = %d, accuracy = %.2f%%' % \\\n",
    "      (train_data.shape[0],accuracy_score(test_label, y_pred)*100))"
   ]
  },
  {
   "cell_type": "code",
   "execution_count": 6,
   "metadata": {},
   "outputs": [
    {
     "name": "stdout",
     "output_type": "stream",
     "text": [
      "Training size = 100, accuracy = 97.69%\n",
      "Training size = 50, accuracy = 97.31%\n"
     ]
    }
   ],
   "source": [
    "train_data_fn = 'train-features-100.txt'\n",
    "train_label_fn = 'train-labels-100.txt'\n",
    "test_data_fn = 'test-features.txt'\n",
    "test_label_fn = 'test-labels.txt'\n",
    "\n",
    "(train_data, train_label)  = read_data(train_data_fn, train_label_fn)\n",
    "(test_data, test_label)  = read_data(test_data_fn, test_label_fn)\n",
    "clf = MultinomialNB()\n",
    "clf.fit(train_data, train_label)\n",
    "y_pred = clf.predict(test_data)\n",
    "print('Training size = %d, accuracy = %.2f%%' % \\\n",
    "      (train_data.shape[0],accuracy_score(test_label, y_pred)*100))\n",
    "\n",
    "train_data_fn = 'train-features-50.txt'\n",
    "train_label_fn = 'train-labels-50.txt'\n",
    "test_data_fn = 'test-features.txt'\n",
    "test_label_fn = 'test-labels.txt'\n",
    "\n",
    "(train_data, train_label)  = read_data(train_data_fn, train_label_fn)\n",
    "(test_data, test_label)  = read_data(test_data_fn, test_label_fn)\n",
    "clf = MultinomialNB()\n",
    "clf.fit(train_data, train_label)\n",
    "y_pred = clf.predict(test_data)\n",
    "print('Training size = %d, accuracy = %.2f%%' % \\\n",
    "      (train_data.shape[0],accuracy_score(test_label, y_pred)*100))"
   ]
  },
  {
   "cell_type": "code",
   "execution_count": 7,
   "metadata": {},
   "outputs": [
    {
     "name": "stdout",
     "output_type": "stream",
     "text": [
      "Training size = 50, accuracy = 69.62%\n"
     ]
    }
   ],
   "source": [
    "clf = BernoulliNB(binarize = .5)\n",
    "clf.fit(train_data, train_label)\n",
    "y_pred = clf.predict(test_data)\n",
    "print('Training size = %d, accuracy = %.2f%%' % \\\n",
    "      (train_data.shape[0],accuracy_score(test_label, y_pred)*100))"
   ]
  },
  {
   "cell_type": "code",
   "execution_count": 1,
   "metadata": {},
   "outputs": [],
   "source": [
    "import numpy as np\n",
    "from sklearn.datasets import fetch_20newsgroups\n",
    "from sklearn.feature_extraction.text import CountVectorizer\n",
    "from sklearn.feature_extraction.text import TfidfTransformer\n",
    "from sklearn.naive_bayes import MultinomialNB\n",
    "from sklearn.pipeline import Pipeline\n"
   ]
  },
  {
   "cell_type": "code",
   "execution_count": 2,
   "metadata": {},
   "outputs": [],
   "source": [
    "from sklearn.datasets import fetch_20newsgroups"
   ]
  },
  {
   "cell_type": "code",
   "execution_count": 17,
   "metadata": {},
   "outputs": [
    {
     "name": "stdout",
     "output_type": "stream",
     "text": [
      "comp.graphics\n",
      "comp.graphics\n",
      "rec.motorcycles\n",
      "comp.graphics\n",
      "sci.med\n",
      "sci.electronics\n",
      "sci.electronics\n",
      "comp.graphics\n",
      "rec.motorcycles\n",
      "sci.electronics\n"
     ]
    }
   ],
   "source": [
    "# We defined the categories which we want to classify\n",
    "categories = ['rec.motorcycles', 'sci.electronics',\n",
    "              'comp.graphics', 'sci.med']\n",
    "\n",
    "# sklearn provides us with subset data for training and testing\n",
    "train_data = fetch_20newsgroups(subset='train',\n",
    "                                categories=categories, shuffle=True, random_state=42)\n",
    "\n",
    "#print(train_data.target_names)\n",
    "\n",
    "#print(\"\\n\".join(train_data.data[0].split(\"\\n\")[:3]))\n",
    "#print(train_data.target_names[train_data.target[0]])\n",
    "\n",
    "# Let's look at categories of our first ten training data\n",
    "for t in train_data.target[:10]:\n",
    "    print(train_data.target_names[t])\n"
   ]
  },
  {
   "cell_type": "code",
   "execution_count": 14,
   "metadata": {},
   "outputs": [
    {
     "name": "stdout",
     "output_type": "stream",
     "text": [
      "We got an accuracy of 91.49746192893402 % over the test data.\n",
      "'I have a Harley Davidson and Yamaha.' => rec.motorcycles\n",
      "'I have a GTX 1050 GPU' => sci.med\n"
     ]
    }
   ],
   "source": [
    "# We can use Pipeline to add vectorizer -> transformer -> classifier all in a one compound classifier\n",
    "text_clf = Pipeline([\n",
    "    ('vect', CountVectorizer()),\n",
    "    ('tfidf', TfidfTransformer()),\n",
    "    ('clf', MultinomialNB()),\n",
    "])\n",
    "# Fitting our train data to the pipeline\n",
    "text_clf.fit(train_data.data, train_data.target)\n",
    "\n",
    "# Test data \n",
    "test_data = fetch_20newsgroups(subset='test',\n",
    "                               categories=categories, shuffle=True, random_state=42)\n",
    "docs_test = test_data.data\n",
    "# Predicting our test data\n",
    "predicted = text_clf.predict(docs_test)\n",
    "print('We got an accuracy of',np.mean(predicted == test_data.target)*100, '% over the test data.')\n",
    "docs_new = ['I have a Harley Davidson and Yamaha.', 'I have a GTX 1050 GPU']\n",
    "pre =  text_clf.predict(docs_new)\n",
    "for doc, category in zip(docs_new, pre):\n",
    "    print('%r => %s' % (doc, train_data.target_names[category]))"
   ]
  },
  {
   "cell_type": "code",
   "execution_count": null,
   "metadata": {},
   "outputs": [],
   "source": []
  }
 ],
 "metadata": {
  "kernelspec": {
   "display_name": "Python 3",
   "language": "python",
   "name": "python3"
  },
  "language_info": {
   "codemirror_mode": {
    "name": "ipython",
    "version": 3
   },
   "file_extension": ".py",
   "mimetype": "text/x-python",
   "name": "python",
   "nbconvert_exporter": "python",
   "pygments_lexer": "ipython3",
   "version": "3.9.4"
  }
 },
 "nbformat": 4,
 "nbformat_minor": 2
}
